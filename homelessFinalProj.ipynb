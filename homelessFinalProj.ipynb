{
 "cells": [
  {
   "cell_type": "markdown",
   "metadata": {},
   "source": [
    "# DATA271 Final Project Homelessness Research"
   ]
  },
  {
   "cell_type": "markdown",
   "metadata": {},
   "source": [
    "## Homelessness Research Questions"
   ]
  },
  {
   "cell_type": "markdown",
   "metadata": {},
   "source": [
    "- What are the overall homelessness trends in America over the last decade?\n",
    "- How do the trends differ when breaking the population into sheltered versus unsheltered groups?\n",
    "- What are the trends for chronic versus nonchronic homelessness over time?\n",
    "- After exploring national trends, how do these trends compare to those in California over the last decade? Does Humboldt mimic these trends?\n",
    "- Focusing on California, what policies and legislation have been enacted in the last decade related to homelessness, and can you see any impact in your data from these policies?\n",
    "- Are there additional policies you would suggest the State of California adopt based on your analysis?\n",
    "- How receptive are homelessness hotspots to their local CoC? Are some areas not seeing change in their homeless population?\n",
    "- "
   ]
  },
  {
   "cell_type": "markdown",
   "metadata": {},
   "source": [
    "## Data Required"
   ]
  },
  {
   "cell_type": "markdown",
   "metadata": {},
   "source": [
    "- **HUD PIT and HIC Data:** [HUD PIT and HIC Data since 2007](https://www.hudexchange.info/resource/3031/pit-and-hic-data-since2007/)\n",
    "- **HUD CoC Shapefiles:** [HUD CoC GIS Tools](https://www.hudexchange.info/programs/coc/gis-tools/)\n",
    "- **Zillow Housing Data:** [Zillow Research Data](https://www.zillow.com/research/data/)\n",
    "- **Humboldt PIT Information:** [Humboldt PIT Executive Summary 2022](https://humboldtgov.org/DocumentCenter/View/107770/PIT-Executive-Summary-2022-PDF)\n",
    "- **Additional Data:** You are encouraged to find and incorporate your own data sets if relevant."
   ]
  },
  {
   "cell_type": "markdown",
   "metadata": {},
   "source": [
    "## Collect Data"
   ]
  },
  {
   "cell_type": "markdown",
   "metadata": {},
   "source": [
    "## Clean Data"
   ]
  },
  {
   "cell_type": "markdown",
   "metadata": {},
   "source": [
    "## Gather Statistics"
   ]
  },
  {
   "cell_type": "markdown",
   "metadata": {},
   "source": [
    "## Analyze Statistics "
   ]
  },
  {
   "cell_type": "markdown",
   "metadata": {},
   "source": [
    "## Use Above to Answer Questions using Inferential Statistics and Prediction"
   ]
  },
  {
   "cell_type": "markdown",
   "metadata": {},
   "source": [
    "## Answer Questions and Conclude Findings"
   ]
  },
  {
   "cell_type": "markdown",
   "metadata": {},
   "source": [
    "## References and Citations"
   ]
  },
  {
   "cell_type": "markdown",
   "metadata": {},
   "source": []
  }
 ],
 "metadata": {
  "language_info": {
   "name": "python"
  }
 },
 "nbformat": 4,
 "nbformat_minor": 2
}
