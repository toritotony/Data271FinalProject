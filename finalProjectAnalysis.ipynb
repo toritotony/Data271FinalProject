{
 "cells": [
  {
   "cell_type": "markdown",
   "metadata": {},
   "source": [
    "# DATA271 Final Project - Weather and Animal Migration Patterns in California\n",
    "\n",
    "---\n",
    "\n",
    "## Research Details\n",
    "\n",
    "---\n",
    "\n",
    "### Introducing the Problem\n",
    "This project performs a statistical investigative process to explore and analyze animal migration data in conjunction with meteorological datasets to identify environmental factors that influence the movement patterns of species across California. We aim to understand how temperature, precipitation, and other atmospheric conditions affect when and where animals migrate, and whether these patterns are shifting in response to broader climate variability. \n",
    "\n",
    "By pairing ecological tracking data from Movebank with detailed weather reports from NOAA and NASA’s Daymet, this project investigates correlations between environmental change and behavioral shifts in migratory species. The goal is to use spatial and temporal analysis to uncover trends and stressors that can inform environmental monitoring, conservation planning, and scientific understanding of wildlife ecology.\n",
    "\n",
    "---\n",
    "\n",
    "### Addressing the Problem\n",
    "The approach will involve joining datasets on both geographic coordinates and dates to conduct spatiotemporal analysis. We’ll investigate time series trends of both weather conditions and migration activity to determine if patterns emerge—such as species arriving earlier due to warming winters, or retreating from drought-affected areas.\n",
    "\n",
    "Additionally, we'll explore the possibility of species migrations being driven not just by weather, but also by ecological relationships such as predator-prey dynamics. By cross-referencing species presence and timing, we can identify potential cases where weather-driven migration may be influenced—or confounded—by avoidance of other species.\n",
    "\n",
    "This work contributes toward a better understanding of how climate variability and atmospheric anomalies impact wildlife ecosystems, particularly within a climate-sensitive and biodiversity-rich region like California.\n",
    "\n",
    "---\n",
    "\n",
    "### Analysis Breakdown\n",
    "We ask the following questions before conducting our official exploratory data analysis:\n",
    "\n",
    "- What weather patterns or atmospheric variables (e.g., temperature, precipitation, wind patterns) correlate most strongly with migration timing or intensity for species in California?\n",
    "- Are there identifiable climate thresholds or seasonal shifts that serve as predictors for migratory events?\n",
    "- Can we spatially and temporally map migration patterns alongside climate variables to detect meaningful trends or changes over time?\n",
    "- How might ongoing climate variability affect the predictability and consistency of migration behaviors in the near future?\n",
    "- Are any migratory shifts better explained by predator-prey relationships than by weather factors, and can predator presence be used as a confounding control in determining causality?\n",
    "\n",
    "Our analysis will be broken down into the following stages:\n",
    "\n",
    "1. **Explore Individual Datasets**  \n",
    "   Clean and summarize each dataset—checking for null values, date and location alignment, and variable consistency. Generate summary statistics and visualizations to understand baseline structure and behavior.\n",
    "\n",
    "2. **Analyze Combined Datasets**  \n",
    "   Merge animal movement and climate datasets on time and location. Create layered time series visualizations and heat maps to understand migratory behavior in relation to environmental variables.\n",
    "\n",
    "3. **Evaluate Significance and Observational Limitations**  \n",
    "   Evaluate both the correlation strength and ecological plausibility of observed patterns. Recognize the observational nature of the data and avoid overextending conclusions where causality cannot be proven.\n",
    "\n",
    "4. **Answer Research Questions**  \n",
    "   Revisit initial questions in light of findings. Highlight where results support or refute assumptions about how atmospheric conditions drive migration, and discuss the role of other ecological pressures.\n",
    "\n",
    "5. **Recommendations & Further Exploration**  \n",
    "   Suggest data-driven implications for conservation or climate adaptation strategies. Propose new directions for data collection (e.g., more granular predator presence data), and identify gaps or limitations in the current analysis.\n",
    "\n",
    "---\n",
    "\n",
    "### Datasets\n",
    "1. [NOAA National Centers for Environmental Information](https://www.ncei.noaa.gov/) – historical and real-time climate data  \n",
    "2. [NASA's Daymet](https://daymet.ornl.gov) – gridded daily weather and climatology variables  \n",
    "3. [Movebank](https://www.movebank.org/) – open-source animal movement data across species  \n",
    "\n",
    "---\n",
    "\n",
    "### Libraries & Modules\n",
    "- **Pandas:** For time series wrangling and merging datasets  \n",
    "- **Numpy:** Core scientific computing and vectorized calculations  \n",
    "- **Matplotlib & Seaborn:** Visualizations for temporal and distributional trends  \n",
    "- **Plotly:** Interactive visualizations and geographic mapping  \n",
    "- **Geopandas:** Spatial joins and mapping of migration paths and weather zones  \n",
    "\n",
    "---\n",
    "\n",
    "### Project Resources\n",
    "- [GitHub Repository](https://github.com/toritotony/Data271FinalProject)\n"
   ]
  },
  {
   "cell_type": "markdown",
   "metadata": {},
   "source": [
    "## Collecting Data"
   ]
  },
  {
   "cell_type": "code",
   "execution_count": 1,
   "metadata": {},
   "outputs": [],
   "source": [
    "import pandas as pd\n",
    "import matplotlib.pyplot as plt\n",
    "import seaborn as sns\n",
    "from sodapy import Socrata\n",
    "import random\n",
    "import numpy as np\n",
    "from plotnine import *\n"
   ]
  },
  {
   "cell_type": "code",
   "execution_count": null,
   "metadata": {},
   "outputs": [],
   "source": []
  },
  {
   "cell_type": "markdown",
   "metadata": {},
   "source": [
    "## Clean Data"
   ]
  },
  {
   "cell_type": "markdown",
   "metadata": {},
   "source": [
    "## Gather Statistics"
   ]
  },
  {
   "cell_type": "markdown",
   "metadata": {},
   "source": [
    "## Analyze Statistics "
   ]
  },
  {
   "cell_type": "markdown",
   "metadata": {},
   "source": [
    "## Use Above to Answer Questions using Inferential Statistics and Prediction"
   ]
  },
  {
   "cell_type": "markdown",
   "metadata": {},
   "source": [
    "## Answer Questions and Conclude Findings"
   ]
  },
  {
   "cell_type": "markdown",
   "metadata": {},
   "source": [
    "## References and Citations"
   ]
  },
  {
   "cell_type": "markdown",
   "metadata": {},
   "source": []
  }
 ],
 "metadata": {
  "kernelspec": {
   "display_name": "venv",
   "language": "python",
   "name": "python3"
  },
  "language_info": {
   "codemirror_mode": {
    "name": "ipython",
    "version": 3
   },
   "file_extension": ".py",
   "mimetype": "text/x-python",
   "name": "python",
   "nbconvert_exporter": "python",
   "pygments_lexer": "ipython3",
   "version": "3.11.9"
  }
 },
 "nbformat": 4,
 "nbformat_minor": 2
}
