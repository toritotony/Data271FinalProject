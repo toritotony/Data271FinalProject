version https://git-lfs.github.com/spec/v1
oid sha256:f775370c4e35139d06cf0ed77a83c91a4564c7aa979a8c7790f8eb1533b1f183
size 450249256
