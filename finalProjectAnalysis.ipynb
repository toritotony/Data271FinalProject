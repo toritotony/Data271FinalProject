version https://git-lfs.github.com/spec/v1
oid sha256:581c712af87e79fe0ddea65cde418b950c3922bf405d8eddef5d04944da29364
size 450249204
