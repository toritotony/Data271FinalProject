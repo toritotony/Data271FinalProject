version https://git-lfs.github.com/spec/v1
oid sha256:95ca701c7071f9afd90dfd85b1fdcac6841f2760ef1bca5e5e59560055c9bd17
size 450298983
